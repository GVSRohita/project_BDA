{
  "nbformat": 4,
  "nbformat_minor": 0,
  "metadata": {
    "colab": {
      "name": "Time-series-LSTM.ipynb",
      "provenance": []
    },
    "kernelspec": {
      "name": "python3",
      "display_name": "Python 3"
    },
    "accelerator": "GPU"
  },
  "cells": [
    {
      "cell_type": "code",
      "metadata": {
        "id": "fA4h_PKPSeXw"
      },
      "source": [
        "import pandas as pd\n",
        "import numpy as np\n",
        "import matplotlib.pyplot as plt"
      ],
      "execution_count": null,
      "outputs": []
    },
    {
      "cell_type": "code",
      "metadata": {
        "colab": {
          "base_uri": "https://localhost:8080/",
          "height": 204
        },
        "id": "NuoenOTpSs_V",
        "outputId": "31fc4642-32f0-4439-8110-088a0c4e045f"
      },
      "source": [
        "df = pd.read_csv('final_stock_consolidated.csv')\n",
        "df.head()"
      ],
      "execution_count": null,
      "outputs": [
        {
          "output_type": "execute_result",
          "data": {
            "text/html": [
              "<div>\n",
              "<style scoped>\n",
              "    .dataframe tbody tr th:only-of-type {\n",
              "        vertical-align: middle;\n",
              "    }\n",
              "\n",
              "    .dataframe tbody tr th {\n",
              "        vertical-align: top;\n",
              "    }\n",
              "\n",
              "    .dataframe thead th {\n",
              "        text-align: right;\n",
              "    }\n",
              "</style>\n",
              "<table border=\"1\" class=\"dataframe\">\n",
              "  <thead>\n",
              "    <tr style=\"text-align: right;\">\n",
              "      <th></th>\n",
              "      <th>Date</th>\n",
              "      <th>Open</th>\n",
              "      <th>High</th>\n",
              "      <th>Low</th>\n",
              "      <th>Close</th>\n",
              "      <th>Volume</th>\n",
              "      <th>OpenInt</th>\n",
              "      <th>stock_ticker</th>\n",
              "    </tr>\n",
              "  </thead>\n",
              "  <tbody>\n",
              "    <tr>\n",
              "      <th>0</th>\n",
              "      <td>1970-01-02</td>\n",
              "      <td>2.2972</td>\n",
              "      <td>2.3178</td>\n",
              "      <td>2.2972</td>\n",
              "      <td>2.2972</td>\n",
              "      <td>26437</td>\n",
              "      <td>0</td>\n",
              "      <td>AA</td>\n",
              "    </tr>\n",
              "    <tr>\n",
              "      <th>1</th>\n",
              "      <td>1970-01-05</td>\n",
              "      <td>2.2972</td>\n",
              "      <td>2.2972</td>\n",
              "      <td>2.2544</td>\n",
              "      <td>2.2759</td>\n",
              "      <td>29887</td>\n",
              "      <td>0</td>\n",
              "      <td>AA</td>\n",
              "    </tr>\n",
              "    <tr>\n",
              "      <th>2</th>\n",
              "      <td>1970-01-06</td>\n",
              "      <td>2.2759</td>\n",
              "      <td>2.2759</td>\n",
              "      <td>2.2342</td>\n",
              "      <td>2.2342</td>\n",
              "      <td>106900</td>\n",
              "      <td>0</td>\n",
              "      <td>AA</td>\n",
              "    </tr>\n",
              "    <tr>\n",
              "      <th>3</th>\n",
              "      <td>1970-01-07</td>\n",
              "      <td>2.2342</td>\n",
              "      <td>2.2342</td>\n",
              "      <td>2.2342</td>\n",
              "      <td>2.2342</td>\n",
              "      <td>85061</td>\n",
              "      <td>0</td>\n",
              "      <td>AA</td>\n",
              "    </tr>\n",
              "    <tr>\n",
              "      <th>4</th>\n",
              "      <td>1970-01-08</td>\n",
              "      <td>2.2342</td>\n",
              "      <td>2.2342</td>\n",
              "      <td>2.2139</td>\n",
              "      <td>2.2139</td>\n",
              "      <td>66669</td>\n",
              "      <td>0</td>\n",
              "      <td>AA</td>\n",
              "    </tr>\n",
              "  </tbody>\n",
              "</table>\n",
              "</div>"
            ],
            "text/plain": [
              "         Date    Open    High     Low   Close  Volume  OpenInt stock_ticker\n",
              "0  1970-01-02  2.2972  2.3178  2.2972  2.2972   26437        0           AA\n",
              "1  1970-01-05  2.2972  2.2972  2.2544  2.2759   29887        0           AA\n",
              "2  1970-01-06  2.2759  2.2759  2.2342  2.2342  106900        0           AA\n",
              "3  1970-01-07  2.2342  2.2342  2.2342  2.2342   85061        0           AA\n",
              "4  1970-01-08  2.2342  2.2342  2.2139  2.2139   66669        0           AA"
            ]
          },
          "metadata": {
            "tags": []
          },
          "execution_count": 31
        }
      ]
    },
    {
      "cell_type": "code",
      "metadata": {
        "colab": {
          "base_uri": "https://localhost:8080/"
        },
        "id": "Hc3fqudX7Wkc",
        "outputId": "e9604aa6-372b-415c-a34e-5d8a0d52f121"
      },
      "source": [
        "df['Date'] = pd.to_datetime(df['Date'])\n",
        "df.info()\n"
      ],
      "execution_count": null,
      "outputs": [
        {
          "output_type": "stream",
          "text": [
            "<class 'pandas.core.frame.DataFrame'>\n",
            "RangeIndex: 3526116 entries, 0 to 3526115\n",
            "Data columns (total 8 columns):\n",
            " #   Column        Dtype         \n",
            "---  ------        -----         \n",
            " 0   Date          datetime64[ns]\n",
            " 1   Open          float64       \n",
            " 2   High          float64       \n",
            " 3   Low           float64       \n",
            " 4   Close         float64       \n",
            " 5   Volume        int64         \n",
            " 6   OpenInt       int64         \n",
            " 7   stock_ticker  object        \n",
            "dtypes: datetime64[ns](1), float64(4), int64(2), object(1)\n",
            "memory usage: 215.2+ MB\n"
          ],
          "name": "stdout"
        }
      ]
    },
    {
      "cell_type": "code",
      "metadata": {
        "colab": {
          "base_uri": "https://localhost:8080/",
          "height": 204
        },
        "id": "T60rjE6QVsdR",
        "outputId": "b811298d-c07b-43b9-c68e-159ba674cf1f"
      },
      "source": [
        "df = df.sort_values(by='Date')\n",
        "df.head()\n"
      ],
      "execution_count": null,
      "outputs": [
        {
          "output_type": "execute_result",
          "data": {
            "text/html": [
              "<div>\n",
              "<style scoped>\n",
              "    .dataframe tbody tr th:only-of-type {\n",
              "        vertical-align: middle;\n",
              "    }\n",
              "\n",
              "    .dataframe tbody tr th {\n",
              "        vertical-align: top;\n",
              "    }\n",
              "\n",
              "    .dataframe thead th {\n",
              "        text-align: right;\n",
              "    }\n",
              "</style>\n",
              "<table border=\"1\" class=\"dataframe\">\n",
              "  <thead>\n",
              "    <tr style=\"text-align: right;\">\n",
              "      <th></th>\n",
              "      <th>Date</th>\n",
              "      <th>Open</th>\n",
              "      <th>High</th>\n",
              "      <th>Low</th>\n",
              "      <th>Close</th>\n",
              "      <th>Volume</th>\n",
              "      <th>OpenInt</th>\n",
              "      <th>stock_ticker</th>\n",
              "    </tr>\n",
              "  </thead>\n",
              "  <tbody>\n",
              "    <tr>\n",
              "      <th>2004875</th>\n",
              "      <td>1962-01-02</td>\n",
              "      <td>6.4130</td>\n",
              "      <td>6.4130</td>\n",
              "      <td>6.3378</td>\n",
              "      <td>6.3378</td>\n",
              "      <td>467056</td>\n",
              "      <td>0</td>\n",
              "      <td>IBM</td>\n",
              "    </tr>\n",
              "    <tr>\n",
              "      <th>1770244</th>\n",
              "      <td>1962-01-02</td>\n",
              "      <td>0.6277</td>\n",
              "      <td>0.6362</td>\n",
              "      <td>0.6201</td>\n",
              "      <td>0.6201</td>\n",
              "      <td>2575579</td>\n",
              "      <td>0</td>\n",
              "      <td>GE</td>\n",
              "    </tr>\n",
              "    <tr>\n",
              "      <th>2004876</th>\n",
              "      <td>1962-01-03</td>\n",
              "      <td>6.3378</td>\n",
              "      <td>6.3963</td>\n",
              "      <td>6.3378</td>\n",
              "      <td>6.3963</td>\n",
              "      <td>350294</td>\n",
              "      <td>0</td>\n",
              "      <td>IBM</td>\n",
              "    </tr>\n",
              "    <tr>\n",
              "      <th>1770245</th>\n",
              "      <td>1962-01-03</td>\n",
              "      <td>0.6201</td>\n",
              "      <td>0.6201</td>\n",
              "      <td>0.6122</td>\n",
              "      <td>0.6201</td>\n",
              "      <td>1764749</td>\n",
              "      <td>0</td>\n",
              "      <td>GE</td>\n",
              "    </tr>\n",
              "    <tr>\n",
              "      <th>2004877</th>\n",
              "      <td>1962-01-04</td>\n",
              "      <td>6.3963</td>\n",
              "      <td>6.3963</td>\n",
              "      <td>6.3295</td>\n",
              "      <td>6.3295</td>\n",
              "      <td>314365</td>\n",
              "      <td>0</td>\n",
              "      <td>IBM</td>\n",
              "    </tr>\n",
              "  </tbody>\n",
              "</table>\n",
              "</div>"
            ],
            "text/plain": [
              "              Date    Open    High  ...   Volume  OpenInt  stock_ticker\n",
              "2004875 1962-01-02  6.4130  6.4130  ...   467056        0           IBM\n",
              "1770244 1962-01-02  0.6277  0.6362  ...  2575579        0            GE\n",
              "2004876 1962-01-03  6.3378  6.3963  ...   350294        0           IBM\n",
              "1770245 1962-01-03  0.6201  0.6201  ...  1764749        0            GE\n",
              "2004877 1962-01-04  6.3963  6.3963  ...   314365        0           IBM\n",
              "\n",
              "[5 rows x 8 columns]"
            ]
          },
          "metadata": {
            "tags": []
          },
          "execution_count": 33
        }
      ]
    },
    {
      "cell_type": "code",
      "metadata": {
        "id": "7KibC8n99V8P"
      },
      "source": [
        "from sklearn.preprocessing import LabelEncoder\n",
        "\n",
        "label_encoder = LabelEncoder()\n",
        "\n",
        "label_stock = label_encoder.fit_transform(df['stock_ticker'])"
      ],
      "execution_count": null,
      "outputs": []
    },
    {
      "cell_type": "code",
      "metadata": {
        "colab": {
          "base_uri": "https://localhost:8080/",
          "height": 204
        },
        "id": "rbSDtEjhG81v",
        "outputId": "31f82e67-94de-41d3-fcf0-2c45ba42a07f"
      },
      "source": [
        "df['stock_ticker'] = label_stock\n",
        "df.head()\n"
      ],
      "execution_count": null,
      "outputs": [
        {
          "output_type": "execute_result",
          "data": {
            "text/html": [
              "<div>\n",
              "<style scoped>\n",
              "    .dataframe tbody tr th:only-of-type {\n",
              "        vertical-align: middle;\n",
              "    }\n",
              "\n",
              "    .dataframe tbody tr th {\n",
              "        vertical-align: top;\n",
              "    }\n",
              "\n",
              "    .dataframe thead th {\n",
              "        text-align: right;\n",
              "    }\n",
              "</style>\n",
              "<table border=\"1\" class=\"dataframe\">\n",
              "  <thead>\n",
              "    <tr style=\"text-align: right;\">\n",
              "      <th></th>\n",
              "      <th>Date</th>\n",
              "      <th>Open</th>\n",
              "      <th>High</th>\n",
              "      <th>Low</th>\n",
              "      <th>Close</th>\n",
              "      <th>Volume</th>\n",
              "      <th>OpenInt</th>\n",
              "      <th>stock_ticker</th>\n",
              "    </tr>\n",
              "  </thead>\n",
              "  <tbody>\n",
              "    <tr>\n",
              "      <th>2004875</th>\n",
              "      <td>1962-01-02</td>\n",
              "      <td>6.4130</td>\n",
              "      <td>6.4130</td>\n",
              "      <td>6.3378</td>\n",
              "      <td>6.3378</td>\n",
              "      <td>467056</td>\n",
              "      <td>0</td>\n",
              "      <td>461</td>\n",
              "    </tr>\n",
              "    <tr>\n",
              "      <th>1770244</th>\n",
              "      <td>1962-01-02</td>\n",
              "      <td>0.6277</td>\n",
              "      <td>0.6362</td>\n",
              "      <td>0.6201</td>\n",
              "      <td>0.6201</td>\n",
              "      <td>2575579</td>\n",
              "      <td>0</td>\n",
              "      <td>422</td>\n",
              "    </tr>\n",
              "    <tr>\n",
              "      <th>2004876</th>\n",
              "      <td>1962-01-03</td>\n",
              "      <td>6.3378</td>\n",
              "      <td>6.3963</td>\n",
              "      <td>6.3378</td>\n",
              "      <td>6.3963</td>\n",
              "      <td>350294</td>\n",
              "      <td>0</td>\n",
              "      <td>461</td>\n",
              "    </tr>\n",
              "    <tr>\n",
              "      <th>1770245</th>\n",
              "      <td>1962-01-03</td>\n",
              "      <td>0.6201</td>\n",
              "      <td>0.6201</td>\n",
              "      <td>0.6122</td>\n",
              "      <td>0.6201</td>\n",
              "      <td>1764749</td>\n",
              "      <td>0</td>\n",
              "      <td>422</td>\n",
              "    </tr>\n",
              "    <tr>\n",
              "      <th>2004877</th>\n",
              "      <td>1962-01-04</td>\n",
              "      <td>6.3963</td>\n",
              "      <td>6.3963</td>\n",
              "      <td>6.3295</td>\n",
              "      <td>6.3295</td>\n",
              "      <td>314365</td>\n",
              "      <td>0</td>\n",
              "      <td>461</td>\n",
              "    </tr>\n",
              "  </tbody>\n",
              "</table>\n",
              "</div>"
            ],
            "text/plain": [
              "              Date    Open    High  ...   Volume  OpenInt  stock_ticker\n",
              "2004875 1962-01-02  6.4130  6.4130  ...   467056        0           461\n",
              "1770244 1962-01-02  0.6277  0.6362  ...  2575579        0           422\n",
              "2004876 1962-01-03  6.3378  6.3963  ...   350294        0           461\n",
              "1770245 1962-01-03  0.6201  0.6201  ...  1764749        0           422\n",
              "2004877 1962-01-04  6.3963  6.3963  ...   314365        0           461\n",
              "\n",
              "[5 rows x 8 columns]"
            ]
          },
          "metadata": {
            "tags": []
          },
          "execution_count": 35
        }
      ]
    },
    {
      "cell_type": "code",
      "metadata": {
        "colab": {
          "base_uri": "https://localhost:8080/",
          "height": 204
        },
        "id": "lzFVNCyzWl9r",
        "outputId": "755e3b05-9643-4302-eeda-b5f480f2364c"
      },
      "source": [
        "df['Date'] = df['Date'].values.astype(np.int64) \n",
        "df.head()\n"
      ],
      "execution_count": null,
      "outputs": [
        {
          "output_type": "execute_result",
          "data": {
            "text/html": [
              "<div>\n",
              "<style scoped>\n",
              "    .dataframe tbody tr th:only-of-type {\n",
              "        vertical-align: middle;\n",
              "    }\n",
              "\n",
              "    .dataframe tbody tr th {\n",
              "        vertical-align: top;\n",
              "    }\n",
              "\n",
              "    .dataframe thead th {\n",
              "        text-align: right;\n",
              "    }\n",
              "</style>\n",
              "<table border=\"1\" class=\"dataframe\">\n",
              "  <thead>\n",
              "    <tr style=\"text-align: right;\">\n",
              "      <th></th>\n",
              "      <th>Date</th>\n",
              "      <th>Open</th>\n",
              "      <th>High</th>\n",
              "      <th>Low</th>\n",
              "      <th>Close</th>\n",
              "      <th>Volume</th>\n",
              "      <th>OpenInt</th>\n",
              "      <th>stock_ticker</th>\n",
              "    </tr>\n",
              "  </thead>\n",
              "  <tbody>\n",
              "    <tr>\n",
              "      <th>2004875</th>\n",
              "      <td>-252374400000000000</td>\n",
              "      <td>6.4130</td>\n",
              "      <td>6.4130</td>\n",
              "      <td>6.3378</td>\n",
              "      <td>6.3378</td>\n",
              "      <td>467056</td>\n",
              "      <td>0</td>\n",
              "      <td>461</td>\n",
              "    </tr>\n",
              "    <tr>\n",
              "      <th>1770244</th>\n",
              "      <td>-252374400000000000</td>\n",
              "      <td>0.6277</td>\n",
              "      <td>0.6362</td>\n",
              "      <td>0.6201</td>\n",
              "      <td>0.6201</td>\n",
              "      <td>2575579</td>\n",
              "      <td>0</td>\n",
              "      <td>422</td>\n",
              "    </tr>\n",
              "    <tr>\n",
              "      <th>2004876</th>\n",
              "      <td>-252288000000000000</td>\n",
              "      <td>6.3378</td>\n",
              "      <td>6.3963</td>\n",
              "      <td>6.3378</td>\n",
              "      <td>6.3963</td>\n",
              "      <td>350294</td>\n",
              "      <td>0</td>\n",
              "      <td>461</td>\n",
              "    </tr>\n",
              "    <tr>\n",
              "      <th>1770245</th>\n",
              "      <td>-252288000000000000</td>\n",
              "      <td>0.6201</td>\n",
              "      <td>0.6201</td>\n",
              "      <td>0.6122</td>\n",
              "      <td>0.6201</td>\n",
              "      <td>1764749</td>\n",
              "      <td>0</td>\n",
              "      <td>422</td>\n",
              "    </tr>\n",
              "    <tr>\n",
              "      <th>2004877</th>\n",
              "      <td>-252201600000000000</td>\n",
              "      <td>6.3963</td>\n",
              "      <td>6.3963</td>\n",
              "      <td>6.3295</td>\n",
              "      <td>6.3295</td>\n",
              "      <td>314365</td>\n",
              "      <td>0</td>\n",
              "      <td>461</td>\n",
              "    </tr>\n",
              "  </tbody>\n",
              "</table>\n",
              "</div>"
            ],
            "text/plain": [
              "                       Date    Open    High  ...   Volume  OpenInt  stock_ticker\n",
              "2004875 -252374400000000000  6.4130  6.4130  ...   467056        0           461\n",
              "1770244 -252374400000000000  0.6277  0.6362  ...  2575579        0           422\n",
              "2004876 -252288000000000000  6.3378  6.3963  ...   350294        0           461\n",
              "1770245 -252288000000000000  0.6201  0.6201  ...  1764749        0           422\n",
              "2004877 -252201600000000000  6.3963  6.3963  ...   314365        0           461\n",
              "\n",
              "[5 rows x 8 columns]"
            ]
          },
          "metadata": {
            "tags": []
          },
          "execution_count": 36
        }
      ]
    },
    {
      "cell_type": "code",
      "metadata": {
        "id": "ERmXTM47ZDVO"
      },
      "source": [
        "df = df.drop(df.columns[[2,3,4,5,6]], axis=1)"
      ],
      "execution_count": null,
      "outputs": []
    },
    {
      "cell_type": "code",
      "metadata": {
        "id": "tn_vbnCVwP_0"
      },
      "source": [
        "training_set = df.iloc[:2500000, ].values\n",
        "test_set = df.iloc[2500000:, ].values\n",
        "test_data = df.iloc[2500000:, ]\n",
        "training_data = df.iloc[:2500000, ]"
      ],
      "execution_count": null,
      "outputs": []
    },
    {
      "cell_type": "code",
      "metadata": {
        "colab": {
          "base_uri": "https://localhost:8080/",
          "height": 419
        },
        "id": "wX01_EndLlKx",
        "outputId": "1c52eee5-1bc0-4b3e-d024-90adfc3137c2"
      },
      "source": [
        "test_data"
      ],
      "execution_count": null,
      "outputs": [
        {
          "output_type": "execute_result",
          "data": {
            "text/html": [
              "<div>\n",
              "<style scoped>\n",
              "    .dataframe tbody tr th:only-of-type {\n",
              "        vertical-align: middle;\n",
              "    }\n",
              "\n",
              "    .dataframe tbody tr th {\n",
              "        vertical-align: top;\n",
              "    }\n",
              "\n",
              "    .dataframe thead th {\n",
              "        text-align: right;\n",
              "    }\n",
              "</style>\n",
              "<table border=\"1\" class=\"dataframe\">\n",
              "  <thead>\n",
              "    <tr style=\"text-align: right;\">\n",
              "      <th></th>\n",
              "      <th>Date</th>\n",
              "      <th>Open</th>\n",
              "      <th>stock_ticker</th>\n",
              "    </tr>\n",
              "  </thead>\n",
              "  <tbody>\n",
              "    <tr>\n",
              "      <th>991295</th>\n",
              "      <td>1330041600000000000</td>\n",
              "      <td>4.4505</td>\n",
              "      <td>243</td>\n",
              "    </tr>\n",
              "    <tr>\n",
              "      <th>936184</th>\n",
              "      <td>1330041600000000000</td>\n",
              "      <td>70.3270</td>\n",
              "      <td>231</td>\n",
              "    </tr>\n",
              "    <tr>\n",
              "      <th>422306</th>\n",
              "      <td>1330041600000000000</td>\n",
              "      <td>34.7080</td>\n",
              "      <td>98</td>\n",
              "    </tr>\n",
              "    <tr>\n",
              "      <th>3447144</th>\n",
              "      <td>1330041600000000000</td>\n",
              "      <td>50.5840</td>\n",
              "      <td>712</td>\n",
              "    </tr>\n",
              "    <tr>\n",
              "      <th>430025</th>\n",
              "      <td>1330041600000000000</td>\n",
              "      <td>4.5600</td>\n",
              "      <td>100</td>\n",
              "    </tr>\n",
              "    <tr>\n",
              "      <th>...</th>\n",
              "      <td>...</td>\n",
              "      <td>...</td>\n",
              "      <td>...</td>\n",
              "    </tr>\n",
              "    <tr>\n",
              "      <th>1696943</th>\n",
              "      <td>1510272000000000000</td>\n",
              "      <td>216.8900</td>\n",
              "      <td>406</td>\n",
              "    </tr>\n",
              "    <tr>\n",
              "      <th>1701977</th>\n",
              "      <td>1510272000000000000</td>\n",
              "      <td>33.3700</td>\n",
              "      <td>407</td>\n",
              "    </tr>\n",
              "    <tr>\n",
              "      <th>1705178</th>\n",
              "      <td>1510272000000000000</td>\n",
              "      <td>120.6000</td>\n",
              "      <td>408</td>\n",
              "    </tr>\n",
              "    <tr>\n",
              "      <th>1662247</th>\n",
              "      <td>1510272000000000000</td>\n",
              "      <td>40.8600</td>\n",
              "      <td>400</td>\n",
              "    </tr>\n",
              "    <tr>\n",
              "      <th>3526115</th>\n",
              "      <td>1510272000000000000</td>\n",
              "      <td>44.1000</td>\n",
              "      <td>725</td>\n",
              "    </tr>\n",
              "  </tbody>\n",
              "</table>\n",
              "<p>1026116 rows × 3 columns</p>\n",
              "</div>"
            ],
            "text/plain": [
              "                        Date      Open  stock_ticker\n",
              "991295   1330041600000000000    4.4505           243\n",
              "936184   1330041600000000000   70.3270           231\n",
              "422306   1330041600000000000   34.7080            98\n",
              "3447144  1330041600000000000   50.5840           712\n",
              "430025   1330041600000000000    4.5600           100\n",
              "...                      ...       ...           ...\n",
              "1696943  1510272000000000000  216.8900           406\n",
              "1701977  1510272000000000000   33.3700           407\n",
              "1705178  1510272000000000000  120.6000           408\n",
              "1662247  1510272000000000000   40.8600           400\n",
              "3526115  1510272000000000000   44.1000           725\n",
              "\n",
              "[1026116 rows x 3 columns]"
            ]
          },
          "metadata": {
            "tags": []
          },
          "execution_count": 39
        }
      ]
    },
    {
      "cell_type": "code",
      "metadata": {
        "id": "W-YoghWuF7-h"
      },
      "source": [
        "test_set_stock = test_data['Open'].values"
      ],
      "execution_count": null,
      "outputs": []
    },
    {
      "cell_type": "code",
      "metadata": {
        "colab": {
          "base_uri": "https://localhost:8080/"
        },
        "id": "dqryR4hhIifd",
        "outputId": "d255b24e-8972-42b3-d61a-0f78e4d1fe86"
      },
      "source": [
        "test_set_stock"
      ],
      "execution_count": null,
      "outputs": [
        {
          "output_type": "execute_result",
          "data": {
            "text/plain": [
              "array([  4.4505,  70.327 ,  34.708 , ..., 120.6   ,  40.86  ,  44.1   ])"
            ]
          },
          "metadata": {
            "tags": []
          },
          "execution_count": 41
        }
      ]
    },
    {
      "cell_type": "code",
      "metadata": {
        "colab": {
          "base_uri": "https://localhost:8080/",
          "height": 204
        },
        "id": "gh-QF9I5aHqQ",
        "outputId": "af8cba79-c040-42f3-a14b-53c9169f34f3"
      },
      "source": [
        "training_data.head()"
      ],
      "execution_count": null,
      "outputs": [
        {
          "output_type": "execute_result",
          "data": {
            "text/html": [
              "<div>\n",
              "<style scoped>\n",
              "    .dataframe tbody tr th:only-of-type {\n",
              "        vertical-align: middle;\n",
              "    }\n",
              "\n",
              "    .dataframe tbody tr th {\n",
              "        vertical-align: top;\n",
              "    }\n",
              "\n",
              "    .dataframe thead th {\n",
              "        text-align: right;\n",
              "    }\n",
              "</style>\n",
              "<table border=\"1\" class=\"dataframe\">\n",
              "  <thead>\n",
              "    <tr style=\"text-align: right;\">\n",
              "      <th></th>\n",
              "      <th>Date</th>\n",
              "      <th>Open</th>\n",
              "      <th>stock_ticker</th>\n",
              "    </tr>\n",
              "  </thead>\n",
              "  <tbody>\n",
              "    <tr>\n",
              "      <th>2004875</th>\n",
              "      <td>-252374400000000000</td>\n",
              "      <td>6.4130</td>\n",
              "      <td>461</td>\n",
              "    </tr>\n",
              "    <tr>\n",
              "      <th>1770244</th>\n",
              "      <td>-252374400000000000</td>\n",
              "      <td>0.6277</td>\n",
              "      <td>422</td>\n",
              "    </tr>\n",
              "    <tr>\n",
              "      <th>2004876</th>\n",
              "      <td>-252288000000000000</td>\n",
              "      <td>6.3378</td>\n",
              "      <td>461</td>\n",
              "    </tr>\n",
              "    <tr>\n",
              "      <th>1770245</th>\n",
              "      <td>-252288000000000000</td>\n",
              "      <td>0.6201</td>\n",
              "      <td>422</td>\n",
              "    </tr>\n",
              "    <tr>\n",
              "      <th>2004877</th>\n",
              "      <td>-252201600000000000</td>\n",
              "      <td>6.3963</td>\n",
              "      <td>461</td>\n",
              "    </tr>\n",
              "  </tbody>\n",
              "</table>\n",
              "</div>"
            ],
            "text/plain": [
              "                       Date    Open  stock_ticker\n",
              "2004875 -252374400000000000  6.4130           461\n",
              "1770244 -252374400000000000  0.6277           422\n",
              "2004876 -252288000000000000  6.3378           461\n",
              "1770245 -252288000000000000  0.6201           422\n",
              "2004877 -252201600000000000  6.3963           461"
            ]
          },
          "metadata": {
            "tags": []
          },
          "execution_count": 42
        }
      ]
    },
    {
      "cell_type": "code",
      "metadata": {
        "colab": {
          "base_uri": "https://localhost:8080/"
        },
        "id": "2Lsw_upuZ3iq",
        "outputId": "d233bfe3-2ad6-4b2b-8f4e-4d525fe7d060"
      },
      "source": [
        "training_set"
      ],
      "execution_count": null,
      "outputs": [
        {
          "output_type": "execute_result",
          "data": {
            "text/plain": [
              "array([[-2.5237440e+17,  6.4130000e+00,  4.6100000e+02],\n",
              "       [-2.5237440e+17,  6.2770000e-01,  4.2200000e+02],\n",
              "       [-2.5228800e+17,  6.3378000e+00,  4.6100000e+02],\n",
              "       ...,\n",
              "       [ 1.3300416e+18,  2.0710000e+01,  6.8200000e+02],\n",
              "       [ 1.3300416e+18,  5.9326000e+01,  2.3000000e+02],\n",
              "       [ 1.3300416e+18,  7.6200000e+00,  6.1800000e+02]])"
            ]
          },
          "metadata": {
            "tags": []
          },
          "execution_count": 91
        }
      ]
    },
    {
      "cell_type": "code",
      "metadata": {
        "colab": {
          "base_uri": "https://localhost:8080/"
        },
        "id": "xCJMqKNKV65R",
        "outputId": "3dfa8601-6c89-4973-d628-9f30114ef111"
      },
      "source": [
        "from sklearn.preprocessing import MinMaxScaler\n",
        "\n",
        "sc = MinMaxScaler(feature_range = (0, 1))\n",
        "\n",
        "training_set_scaled = sc.fit_transform(training_set)\n",
        "\n",
        "training_set_scaled.shape"
      ],
      "execution_count": null,
      "outputs": [
        {
          "output_type": "execute_result",
          "data": {
            "text/plain": [
              "(2500000, 3)"
            ]
          },
          "metadata": {
            "tags": []
          },
          "execution_count": 44
        }
      ]
    },
    {
      "cell_type": "code",
      "metadata": {
        "colab": {
          "base_uri": "https://localhost:8080/"
        },
        "id": "R3OT2e4YURZi",
        "outputId": "d7e3ce86-7b2c-4fae-b676-3b9575d094f9"
      },
      "source": [
        "training_set_scaled.shape[0]"
      ],
      "execution_count": null,
      "outputs": [
        {
          "output_type": "execute_result",
          "data": {
            "text/plain": [
              "2500000"
            ]
          },
          "metadata": {
            "tags": []
          },
          "execution_count": 45
        }
      ]
    },
    {
      "cell_type": "code",
      "metadata": {
        "colab": {
          "base_uri": "https://localhost:8080/"
        },
        "id": "sjTYLlkkYndN",
        "outputId": "40a7dcf4-19fe-4522-b51a-6976f0928427"
      },
      "source": [
        "X_train = []\n",
        "y_train = []\n",
        "for i in range(60, 2500000):\n",
        "    X_train.append(training_set_scaled[i-60:i, 0])\n",
        "    y_train.append(training_set_scaled[i, 0])\n",
        "X_train, y_train = np.array(X_train), np.array(y_train)\n",
        "X_train\n"
      ],
      "execution_count": null,
      "outputs": [
        {
          "output_type": "execute_result",
          "data": {
            "text/plain": [
              "array([[0.00000000e+00, 0.00000000e+00, 5.46000546e-05, ...,\n",
              "        2.07480207e-03, 2.23860224e-03, 2.23860224e-03],\n",
              "       [0.00000000e+00, 5.46000546e-05, 5.46000546e-05, ...,\n",
              "        2.23860224e-03, 2.23860224e-03, 2.29320229e-03],\n",
              "       [5.46000546e-05, 5.46000546e-05, 1.09200109e-04, ...,\n",
              "        2.23860224e-03, 2.29320229e-03, 2.29320229e-03],\n",
              "       ...,\n",
              "       [1.00000000e+00, 1.00000000e+00, 1.00000000e+00, ...,\n",
              "        1.00000000e+00, 1.00000000e+00, 1.00000000e+00],\n",
              "       [1.00000000e+00, 1.00000000e+00, 1.00000000e+00, ...,\n",
              "        1.00000000e+00, 1.00000000e+00, 1.00000000e+00],\n",
              "       [1.00000000e+00, 1.00000000e+00, 1.00000000e+00, ...,\n",
              "        1.00000000e+00, 1.00000000e+00, 1.00000000e+00]])"
            ]
          },
          "metadata": {
            "tags": []
          },
          "execution_count": 46
        }
      ]
    },
    {
      "cell_type": "code",
      "metadata": {
        "colab": {
          "base_uri": "https://localhost:8080/"
        },
        "id": "uLiB18StdTtP",
        "outputId": "87c3320b-6282-45b4-cee9-7885d05f64c0"
      },
      "source": [
        "X_train.shape[1]"
      ],
      "execution_count": null,
      "outputs": [
        {
          "output_type": "execute_result",
          "data": {
            "text/plain": [
              "60"
            ]
          },
          "metadata": {
            "tags": []
          },
          "execution_count": 47
        }
      ]
    },
    {
      "cell_type": "code",
      "metadata": {
        "colab": {
          "base_uri": "https://localhost:8080/"
        },
        "id": "45M2e4I9bZlB",
        "outputId": "91404823-86de-45d1-d92b-b4374552363c"
      },
      "source": [
        "X_train = np.reshape(X_train, (X_train.shape[0], X_train.shape[1], 1))\n",
        "X_train.shape\n",
        "y_train.shape"
      ],
      "execution_count": null,
      "outputs": [
        {
          "output_type": "execute_result",
          "data": {
            "text/plain": [
              "(2499940,)"
            ]
          },
          "metadata": {
            "tags": []
          },
          "execution_count": 48
        }
      ]
    },
    {
      "cell_type": "code",
      "metadata": {
        "id": "FMwM0tYocql1"
      },
      "source": [
        "from keras.models import Sequential\n",
        "from keras.layers import Dense\n",
        "from keras.layers import LSTM\n",
        "from keras.layers import Dropout\n"
      ],
      "execution_count": null,
      "outputs": []
    },
    {
      "cell_type": "code",
      "metadata": {
        "colab": {
          "base_uri": "https://localhost:8080/"
        },
        "id": "V3O8KF6Hd8d8",
        "outputId": "6f1417ea-e51a-4d6a-8a07-b07b3f9fb05e"
      },
      "source": [
        "model = Sequential()\n",
        "#Adding the first LSTM layer and some Dropout regularisation\n",
        "model.add(LSTM(units = 50, return_sequences = True, input_shape = (X_train.shape[1], 1)))\n",
        "model.add(Dropout(0.2))\n",
        "# Adding a second LSTM layer and some Dropout regularisation\n",
        "model.add(LSTM(units = 50, return_sequences = True))\n",
        "model.add(Dropout(0.2))\n",
        "# Adding a third LSTM layer and some Dropout regularisation\n",
        "model.add(LSTM(units = 50, return_sequences = True))\n",
        "model.add(Dropout(0.2))\n",
        "# Adding a fourth LSTM layer and some Dropout regularisation\n",
        "model.add(LSTM(units = 50))\n",
        "model.add(Dropout(0.2))\n",
        "# Adding the output layer\n",
        "model.add(Dense(units = 1))\n",
        "\n",
        "# Compiling the RNN\n",
        "model.compile(optimizer = 'adam', loss = 'mean_squared_error')\n",
        "\n",
        "# Fitting the RNN to the Training set\n",
        "model.fit(X_train, y_train, epochs = 10, batch_size = 64)"
      ],
      "execution_count": null,
      "outputs": [
        {
          "output_type": "stream",
          "text": [
            "Epoch 1/10\n",
            "39062/39062 [==============================] - 555s 14ms/step - loss: 5.3941e-04\n",
            "Epoch 2/10\n",
            "39062/39062 [==============================] - 545s 14ms/step - loss: 2.1715e-04\n",
            "Epoch 3/10\n",
            "39062/39062 [==============================] - 551s 14ms/step - loss: 2.0785e-04\n",
            "Epoch 4/10\n",
            "39062/39062 [==============================] - 566s 15ms/step - loss: 2.0305e-04\n",
            "Epoch 5/10\n",
            "39062/39062 [==============================] - 554s 14ms/step - loss: 1.9956e-04\n",
            "Epoch 6/10\n",
            "39062/39062 [==============================] - 530s 14ms/step - loss: 1.9707e-04\n",
            "Epoch 7/10\n",
            "39062/39062 [==============================] - 528s 14ms/step - loss: 1.9656e-04\n",
            "Epoch 8/10\n",
            "39062/39062 [==============================] - 543s 14ms/step - loss: 1.9413e-04\n",
            "Epoch 9/10\n",
            "39062/39062 [==============================] - 538s 14ms/step - loss: 1.9364e-04\n",
            "Epoch 10/10\n",
            "39062/39062 [==============================] - 527s 13ms/step - loss: 1.9245e-04\n"
          ],
          "name": "stdout"
        },
        {
          "output_type": "execute_result",
          "data": {
            "text/plain": [
              "<tensorflow.python.keras.callbacks.History at 0x7f65d7437080>"
            ]
          },
          "metadata": {
            "tags": []
          },
          "execution_count": 50
        }
      ]
    },
    {
      "cell_type": "code",
      "metadata": {
        "colab": {
          "base_uri": "https://localhost:8080/"
        },
        "id": "DbY0Ag55yqYp",
        "outputId": "53bb855e-b649-4eaa-c776-232bc0eed2b8"
      },
      "source": [
        "test_set_scaled = sc.fit_transform(test_set)\n",
        "test_set_scaled.shape\n",
        "# test_set.shape\n"
      ],
      "execution_count": null,
      "outputs": [
        {
          "output_type": "execute_result",
          "data": {
            "text/plain": [
              "(1026116, 3)"
            ]
          },
          "metadata": {
            "tags": []
          },
          "execution_count": 51
        }
      ]
    },
    {
      "cell_type": "code",
      "metadata": {
        "id": "W84yMHJXKQ4V"
      },
      "source": [
        "dataset_total = pd.concat((training_data, test_data), axis = 0)\n"
      ],
      "execution_count": null,
      "outputs": []
    },
    {
      "cell_type": "code",
      "metadata": {
        "colab": {
          "base_uri": "https://localhost:8080/"
        },
        "id": "JKKN6tNxh7RL",
        "outputId": "9b2795c0-92ae-4ea2-8dc6-10a5e6ea5073"
      },
      "source": [
        "dataset_total.info()"
      ],
      "execution_count": null,
      "outputs": [
        {
          "output_type": "stream",
          "text": [
            "<class 'pandas.core.frame.DataFrame'>\n",
            "Int64Index: 3526116 entries, 2004875 to 3526115\n",
            "Data columns (total 3 columns):\n",
            " #   Column        Dtype  \n",
            "---  ------        -----  \n",
            " 0   Date          int64  \n",
            " 1   Open          float64\n",
            " 2   stock_ticker  int64  \n",
            "dtypes: float64(1), int64(2)\n",
            "memory usage: 107.6 MB\n"
          ],
          "name": "stdout"
        }
      ]
    },
    {
      "cell_type": "code",
      "metadata": {
        "colab": {
          "base_uri": "https://localhost:8080/"
        },
        "id": "3omE4-zhGPRy",
        "outputId": "4a3bc4a4-7f5c-4487-92ec-683d8ecc7359"
      },
      "source": [
        "inputs = dataset_total[len(dataset_total) - len(test_data) - 60:].values\n",
        "print(len(dataset_total))\n",
        "print(len(test_data) - 60)"
      ],
      "execution_count": null,
      "outputs": [
        {
          "output_type": "stream",
          "text": [
            "3526116\n",
            "1026056\n"
          ],
          "name": "stdout"
        }
      ]
    },
    {
      "cell_type": "code",
      "metadata": {
        "colab": {
          "base_uri": "https://localhost:8080/"
        },
        "id": "C-9j77UAFLi2",
        "outputId": "91bec95f-8129-4f1a-f1d3-c6b06cbaa125"
      },
      "source": [
        " inputs = inputs.reshape(-1,1)\n",
        " inputs.shape"
      ],
      "execution_count": null,
      "outputs": [
        {
          "output_type": "execute_result",
          "data": {
            "text/plain": [
              "(3078528, 1)"
            ]
          },
          "metadata": {
            "tags": []
          },
          "execution_count": 54
        }
      ]
    },
    {
      "cell_type": "code",
      "metadata": {
        "id": "n5hIlt-Q9g0Y",
        "colab": {
          "base_uri": "https://localhost:8080/"
        },
        "outputId": "018a9220-3fad-4433-a542-7afddd46d9cf"
      },
      "source": [
        "\n",
        "inputs = sc.transform(inputs)\n",
        "X_test = []\n",
        "for i in range(60, 1026176):\n",
        "    X_test.append(inputs[i-60:i, 0])\n",
        "X_test = np.array(X_test)\n",
        "X_test = np.reshape(X_test, (X_test.shape[0], X_test.shape[1], 1))\n",
        "predicted_stock_price = model.predict(X_test)\n",
        "\n",
        "predicted_stock_price"
      ],
      "execution_count": null,
      "outputs": [
        {
          "output_type": "execute_result",
          "data": {
            "text/plain": [
              "array([[0.03348494],\n",
              "       [0.03348511],\n",
              "       [0.03348505],\n",
              "       ...,\n",
              "       [0.03348505],\n",
              "       [0.033485  ],\n",
              "       [0.03348511]], dtype=float32)"
            ]
          },
          "metadata": {
            "tags": []
          },
          "execution_count": 106
        }
      ]
    },
    {
      "cell_type": "code",
      "metadata": {
        "colab": {
          "base_uri": "https://localhost:8080/"
        },
        "id": "Eo0_z51pp23G",
        "outputId": "c1e1db26-dc7b-4e04-d1f4-8887ac08d9f0"
      },
      "source": [
        "X_test.shape"
      ],
      "execution_count": null,
      "outputs": [
        {
          "output_type": "execute_result",
          "data": {
            "text/plain": [
              "(1026116, 60, 1)"
            ]
          },
          "metadata": {
            "tags": []
          },
          "execution_count": 93
        }
      ]
    },
    {
      "cell_type": "code",
      "metadata": {
        "colab": {
          "base_uri": "https://localhost:8080/"
        },
        "id": "nCV7wHk_njYT",
        "outputId": "f4baf248-ab6a-4257-92d4-de23b8c2a7c6"
      },
      "source": [
        "# predicted_stock_price.shape\n",
        "sc.inverse_transform(predicted_stock_price[:, [0]])\n",
        "# predicted_stock_price = sc.inverse_transform(predicted_stock_price)"
      ],
      "execution_count": null,
      "outputs": [
        {
          "output_type": "execute_result",
          "data": {
            "text/plain": [
              "array([[0.2525738 ],\n",
              "       [0.26184094],\n",
              "       [0.25949097],\n",
              "       ...,\n",
              "       [0.26596016],\n",
              "       [0.2587273 ],\n",
              "       [0.26828575]], dtype=float32)"
            ]
          },
          "metadata": {
            "tags": []
          },
          "execution_count": 96
        }
      ]
    },
    {
      "cell_type": "code",
      "metadata": {
        "colab": {
          "base_uri": "https://localhost:8080/"
        },
        "id": "7uFqjHIJEIHi",
        "outputId": "77212718-fdcd-482e-9e35-a54bff5a3cd4"
      },
      "source": [
        "predicted_stock_price\n",
        "# sc.inverse_transform?\n",
        "# predicted_stock_price = sc.inverse_transform(predicted_stock_price)"
      ],
      "execution_count": null,
      "outputs": [
        {
          "output_type": "execute_result",
          "data": {
            "text/plain": [
              "array([[0.2525738 ],\n",
              "       [0.26184094],\n",
              "       [0.25949097],\n",
              "       ...,\n",
              "       [0.26596016],\n",
              "       [0.2587273 ],\n",
              "       [0.26828575]], dtype=float32)"
            ]
          },
          "metadata": {
            "tags": []
          },
          "execution_count": 94
        }
      ]
    },
    {
      "cell_type": "code",
      "metadata": {
        "colab": {
          "base_uri": "https://localhost:8080/"
        },
        "id": "20O0GlHqKPIW",
        "outputId": "4dec0e6e-4aa9-43b1-a6e4-e17748e62ccf"
      },
      "source": [
        "test_set_stock1 = test_set_stock.reshape(-1,1)\n",
        "\n",
        "test_set_scaled = sc.fit_transform(test_set_stock1)\n",
        "\n",
        "test_set_scaled"
      ],
      "execution_count": null,
      "outputs": [
        {
          "output_type": "execute_result",
          "data": {
            "text/plain": [
              "array([[1.46426968e-05],\n",
              "       [2.55764960e-04],\n",
              "       [1.25391703e-04],\n",
              "       ...,\n",
              "       [4.39775033e-04],\n",
              "       [1.47909356e-04],\n",
              "       [1.59768458e-04]])"
            ]
          },
          "metadata": {
            "tags": []
          },
          "execution_count": 117
        }
      ]
    },
    {
      "cell_type": "code",
      "metadata": {
        "colab": {
          "base_uri": "https://localhost:8080/"
        },
        "id": "qlfEhwqQwq9q",
        "outputId": "07787916-0265-4aab-efd2-270114da1bfd"
      },
      "source": [
        "test_set_scaled.shape"
      ],
      "execution_count": null,
      "outputs": [
        {
          "output_type": "execute_result",
          "data": {
            "text/plain": [
              "(1026116, 1)"
            ]
          },
          "metadata": {
            "tags": []
          },
          "execution_count": 107
        }
      ]
    },
    {
      "cell_type": "code",
      "metadata": {
        "id": "8iuY-LGOnKHv"
      },
      "source": [
        " from sklearn.metrics import mean_squared_error\n"
      ],
      "execution_count": null,
      "outputs": []
    },
    {
      "cell_type": "code",
      "metadata": {
        "colab": {
          "base_uri": "https://localhost:8080/"
        },
        "id": "nudOn0W47l_i",
        "outputId": "06cb0870-594d-4934-b72b-6eadae20f4df"
      },
      "source": [
        "# trainScore = np.sqrt(mean_squared_error(test_set_stock, predicted_stock_price))\n",
        "# print('Train Score: %.2f RMSE' % (trainScore))\n",
        "testScore = np.sqrt(mean_squared_error(test_set_scaled, predicted_stock_price))\n",
        "print('Test Score: %.2f RMSE' % (testScore))"
      ],
      "execution_count": null,
      "outputs": [
        {
          "output_type": "stream",
          "text": [
            "Test Score: 0.26 RMSE\n"
          ],
          "name": "stdout"
        }
      ]
    }
  ]
}